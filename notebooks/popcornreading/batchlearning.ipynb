{
 "cells": [
  {
   "cell_type": "code",
   "execution_count": null,
   "id": "fe6fbad1",
   "metadata": {},
   "outputs": [],
   "source": [
    "def batch(grad, xs, w, alpha):\n",
    "    sum_grad = 0\n",
    "    for x in xs:\n",
    "        sum_grad += grad(x, w)\n",
    "    w = w - alpha * sum_grad\n",
    "    return w\n"
   ]
  }
 ],
 "metadata": {
  "language_info": {
   "name": "python"
  }
 },
 "nbformat": 4,
 "nbformat_minor": 5
}

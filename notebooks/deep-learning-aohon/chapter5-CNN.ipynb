{
 "cells": [
  {
   "cell_type": "code",
   "execution_count": 2,
   "id": "100d3f9d",
   "metadata": {},
   "outputs": [],
   "source": [
    "import numpy as np\n",
    "\n",
    "class Layer:\n",
    "    \"\"\"\n",
    "    Layer is base class of all layers\n",
    "    \"\"\"\n",
    "    def __init__(self):\n",
    "        self.input = None\n",
    "        self.output = None\n",
    "\n",
    "    def forward(self, input):\n",
    "        \"\"\"forwardは順伝播の処理を表す。子クラスは中身を実装しないといけない\"\"\"\n",
    "        raise NotImplementedError\n",
    "    \n",
    "    def backward(self, output_gradient, learning_rate):\n",
    "        \"\"\"backwardは順伝播の処理を表す。子クラスは中身を実装しないといけない\"\"\"\n",
    "        raise NotImplementedError\n"
   ]
  },
  {
   "cell_type": "markdown",
   "id": "ab8043cb",
   "metadata": {},
   "source": [
    "## ReLUレイヤー"
   ]
  },
  {
   "cell_type": "code",
   "execution_count": 3,
   "id": "d367c946",
   "metadata": {},
   "outputs": [],
   "source": [
    "class ReLU(Layer):\n",
    "    def __init__(self):\n",
    "        super().__init__()\n",
    "\n",
    "    def forward(self, input_data):\n",
    "        self.input = input_data\n",
    "\n",
    "        return np.maximum(0, self.input)\n",
    "\n",
    "    def backward(self, output_gradient, learning_rate):\n",
    "        \"\"\"順伝播の入力が０より大きかった場所だけ勾配をそのまま後ろに流す\"\"\"\n",
    "        mask = self.input > 0\n",
    "\n",
    "        return output_gradient * mask\n"
   ]
  },
  {
   "cell_type": "markdown",
   "id": "5ca5ef74",
   "metadata": {},
   "source": [
    "## （Max）プーリング層\n",
    "- 入力を小さな領域（プール）に区切り、各領域の最大値だけを取り出して出力を小さくする\n",
    "- `backward`: 順伝播の時に最大値だった場所（選択された場所）にだけ勾配を流す。選ばれなかった場所の勾配は０とする"
   ]
  },
  {
   "cell_type": "code",
   "execution_count": null,
   "id": "5e018574",
   "metadata": {},
   "outputs": [],
   "source": [
    "class MaxPooling(Layer):\n",
    "    def __init__(self, pool_size):\n",
    "        super().__init__()\n",
    "        self.pool_size = pool_size\n",
    "\n",
    "    def forward(self, input_data):\n",
    "        # backwardのために入力を記憶しておく\n",
    "        self.input = input_data\n",
    "\n",
    "        depth, height, width = self.input.shape\n",
    "        ph, pw = self.pool_size, self.pool_size\n",
    "        output_height = height // ph\n",
    "        output_width = width // pw\n",
    "\n",
    "        output = np.zeros((depth, output_height, output_width))\n",
    "\n",
    "        for d_i in range(depth):\n",
    "            for h_i in range(output_height):\n",
    "                for w_i in range(output_width):\n",
    "                    window = self.input[d_i, h_i*ph:(h_i + 1)*ph, w_i*pw:(w_i + 1)]\n",
    "                    output[d_i, h_i, w_i] = max(window)\n",
    "\n",
    "        return output\n",
    "\n",
    "    def backward(self, output_gradient, learning_rate):\n",
    "        input_gradient = np.zeros_like(self.input)\n",
    "\n",
    "        depth, height, width = self.input.shape\n",
    "        ph, pw = self.pool_size, self.pool_size\n",
    "        output_height = height // ph\n",
    "        output_width = width // pw\n",
    "        \n",
    "        for d_i in range(depth):\n",
    "            for h_i in range(output_height):\n",
    "                for w_i in range(output_width):\n",
    "                    window = self.input[d_i, h_i*ph:(h_i + 1)*ph, w_i*pw:(w_i + 1)]\n",
    "                    max_value = max(window)\n",
    "\n",
    "                    if self.input[d_i, h_i, w_i] == max_value:\n",
    "                        input_gradient[d_i, h_i*ph:(h_i + 1)*ph, w_i*pw:(w_i + 1)] += output_gradient[d_i, h_i, w_i]\n",
    "\n",
    "        return input_gradient\n",
    "\n",
    "        \n",
    "    \n"
   ]
  },
  {
   "cell_type": "code",
   "execution_count": null,
   "id": "97a44cf9",
   "metadata": {},
   "outputs": [],
   "source": [
    "\n",
    "# TODO: required to implement\n",
    "class ConvolutionalLayer(Layer):\n",
    "    def __init__(self):\n",
    "        super().__init__()\n",
    "    \n",
    "    def forward(self, input):\n",
    "        self.input = input\n",
    "        # ...calculation\n",
    "        return self.output\n",
    "\n",
    "    def backward(self, output_gradient, learning_rate):\n",
    "        self.kernels\n",
    "        self.biases\n",
    "        return input_gradient\n"
   ]
  }
 ],
 "metadata": {
  "kernelspec": {
   "display_name": ".venv",
   "language": "python",
   "name": "python3"
  },
  "language_info": {
   "codemirror_mode": {
    "name": "ipython",
    "version": 3
   },
   "file_extension": ".py",
   "mimetype": "text/x-python",
   "name": "python",
   "nbconvert_exporter": "python",
   "pygments_lexer": "ipython3",
   "version": "3.11.13"
  }
 },
 "nbformat": 4,
 "nbformat_minor": 5
}
